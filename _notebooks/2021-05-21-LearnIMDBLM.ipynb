{
  "nbformat": 4,
  "nbformat_minor": 0,
  "metadata": {
    "colab": {
      "name": "2021-05-21-LearnIMDBLM.ipynb",
      "provenance": [],
      "collapsed_sections": []
    },
    "kernelspec": {
      "name": "python3",
      "display_name": "Python 3"
    },
    "language_info": {
      "name": "python"
    },
    "accelerator": "GPU"
  },
  "cells": [
    {
      "cell_type": "markdown",
      "metadata": {
        "id": "327Sx-06L23_"
      },
      "source": [
        "# \"FASTAI Generate Wiki-IMDB Language model\"\n",
        "> \"Fastpages blog\"\n",
        "\n",
        "- toc:true- branch: master\n",
        "- badges: true\n",
        "- comments: true\n",
        "- author: Conwyn\n",
        "- categories: [fastai,language,encoder]"
      ]
    },
    {
      "cell_type": "code",
      "metadata": {
        "id": "7d0LRyyvL-WS"
      },
      "source": [
        "%matplotlib inline\n",
        "%reload_ext autoreload\n",
        "\n",
        "!pip install -Uqq fastbook\n",
        "import fastbook\n",
        "fastbook.setup_book()\n",
        "from fastai import *\n",
        "from fastai.text.all import *"
      ],
      "execution_count": null,
      "outputs": []
    },
    {
      "cell_type": "markdown",
      "metadata": {
        "id": "Rwp-8q5tNUg1"
      },
      "source": [
        "Download the FastAI IMDB entries"
      ]
    },
    {
      "cell_type": "code",
      "metadata": {
        "id": "4eYhZClU-Tb3",
        "colab": {
          "base_uri": "https://localhost:8080/",
          "height": 17
        },
        "outputId": "c00dab4c-3a30-4d5f-e316-17cbb681dfbf"
      },
      "source": [
        "path=untar_data(URLs.IMDB) #/root/.fastai/data/imdb\n",
        "get_imdb = partial(get_text_files,folders=['train','test','unsup'])"
      ],
      "execution_count": null,
      "outputs": [
        {
          "output_type": "display_data",
          "data": {
            "text/html": [
              ""
            ],
            "text/plain": [
              "<IPython.core.display.HTML object>"
            ]
          },
          "metadata": {
            "tags": []
          }
        }
      ]
    },
    {
      "cell_type": "markdown",
      "metadata": {
        "id": "Cuot4dFTNgb5"
      },
      "source": [
        "Build a datablock"
      ]
    },
    {
      "cell_type": "code",
      "metadata": {
        "colab": {
          "base_uri": "https://localhost:8080/",
          "height": 17
        },
        "id": "aW7wmWZA95i9",
        "outputId": "bcf9af15-38fc-4320-e28f-233847a7064a"
      },
      "source": [
        "dls_lm = DataBlock(\n",
        "   blocks = TextBlock.from_folder(path,is_lm=True),\n",
        "    get_items=get_imdb,splitter=RandomSplitter(0.1)\n",
        ").dataloaders(path,path=path,bs=128,seq_len=80)"
      ],
      "execution_count": null,
      "outputs": [
        {
          "output_type": "display_data",
          "data": {
            "text/html": [
              ""
            ],
            "text/plain": [
              "<IPython.core.display.HTML object>"
            ]
          },
          "metadata": {
            "tags": []
          }
        }
      ]
    },
    {
      "cell_type": "markdown",
      "metadata": {
        "id": "WBPQE05yP-eF"
      },
      "source": [
        "Save the Datablock for later when we require the word-token mapping when we use the encoder\n"
      ]
    },
    {
      "cell_type": "code",
      "metadata": {
        "id": "D6DeGi1zgy3a"
      },
      "source": [
        "import pickle\n",
        "pickle.dump( dls_lm , open( \"savelm3.p\", \"wb\" ) )\n",
        "!cp /content/savelm3.p /content/gdrive/MyDrive"
      ],
      "execution_count": null,
      "outputs": []
    },
    {
      "cell_type": "markdown",
      "metadata": {
        "id": "0O8C4YnwPEcX"
      },
      "source": [
        ""
      ]
    },
    {
      "cell_type": "code",
      "metadata": {
        "id": "4wv9kzD0gzdy",
        "colab": {
          "base_uri": "https://localhost:8080/",
          "height": 17
        },
        "outputId": "8d2b9abe-37ec-4ec8-f03f-88a56a5e529a"
      },
      "source": [
        "#hide\n",
        "import pickle\n",
        "!cp  /content/gdrive/MyDrive/savelm3.p /content\n",
        "dls_lm = pickle.load( open( \"/content/savelm3.p\", \"rb\" ) )\n",
        "#learnlm = language_model_learner(dls_lm,AWD_LSTM,drop_mult=0.3,metrics=[accuracy,Perplexity()]).to_fp16()"
      ],
      "execution_count": null,
      "outputs": [
        {
          "output_type": "display_data",
          "data": {
            "text/html": [
              ""
            ],
            "text/plain": [
              "<IPython.core.display.HTML object>"
            ]
          },
          "metadata": {
            "tags": []
          }
        }
      ]
    },
    {
      "cell_type": "markdown",
      "metadata": {
        "id": "VHQZJRihPGd6"
      },
      "source": [
        "Create the learner"
      ]
    },
    {
      "cell_type": "code",
      "metadata": {
        "colab": {
          "base_uri": "https://localhost:8080/",
          "height": 17
        },
        "id": "bneNeLYleOTv",
        "outputId": "72bf98c9-87b8-449e-a3ad-94d0b2f8631c"
      },
      "source": [
        "learnlm = language_model_learner(dls_lm,AWD_LSTM,drop_mult=0.3,metrics=[accuracy, Perplexity()]).to_fp16()"
      ],
      "execution_count": null,
      "outputs": [
        {
          "output_type": "display_data",
          "data": {
            "text/html": [
              ""
            ],
            "text/plain": [
              "<IPython.core.display.HTML object>"
            ]
          },
          "metadata": {
            "tags": []
          }
        }
      ]
    },
    {
      "cell_type": "markdown",
      "metadata": {
        "id": "HfYmMfRvOPm7"
      },
      "source": [
        "Fit the learner and optionally save the model"
      ]
    },
    {
      "cell_type": "code",
      "metadata": {
        "colab": {
          "base_uri": "https://localhost:8080/",
          "height": 99
        },
        "id": "ZL0YvVJU95mU",
        "outputId": "01f3dd5d-f5d9-4760-dc00-658b0150e02a"
      },
      "source": [
        "learnlm.fit_one_cycle(1,2e-2)\n",
        "\n",
        "learnlm.save('1epochF')\n",
        "\n",
        "!cp /root/.fastai/data/imdb/models/1epochE.pth /content/gdrive/MyDrive"
      ],
      "execution_count": null,
      "outputs": [
        {
          "output_type": "display_data",
          "data": {
            "text/html": [
              "<table border=\"1\" class=\"dataframe\">\n",
              "  <thead>\n",
              "    <tr style=\"text-align: left;\">\n",
              "      <th>epoch</th>\n",
              "      <th>train_loss</th>\n",
              "      <th>valid_loss</th>\n",
              "      <th>accuracy</th>\n",
              "      <th>perplexity</th>\n",
              "      <th>time</th>\n",
              "    </tr>\n",
              "  </thead>\n",
              "  <tbody>\n",
              "    <tr>\n",
              "      <td>0</td>\n",
              "      <td>4.015330</td>\n",
              "      <td>3.898061</td>\n",
              "      <td>0.301384</td>\n",
              "      <td>49.306740</td>\n",
              "      <td>26:15</td>\n",
              "    </tr>\n",
              "  </tbody>\n",
              "</table>"
            ],
            "text/plain": [
              "<IPython.core.display.HTML object>"
            ]
          },
          "metadata": {
            "tags": []
          }
        },
        {
          "output_type": "stream",
          "text": [
            "cp: cannot stat '/root/.fastai/data/imdb/models/1epochE.pth': No such file or directory\n"
          ],
          "name": "stdout"
        }
      ]
    },
    {
      "cell_type": "markdown",
      "metadata": {
        "id": "Y5GlqB2IOz-T"
      },
      "source": [
        "Note it uses a model subfolder within the path"
      ]
    },
    {
      "cell_type": "code",
      "metadata": {
        "colab": {
          "base_uri": "https://localhost:8080/"
        },
        "id": "3rKXVZdFmFWc",
        "outputId": "966f2195-cf8b-4f19-8a78-5bc9fa7bcacc"
      },
      "source": [
        "print(path)"
      ],
      "execution_count": null,
      "outputs": [
        {
          "output_type": "stream",
          "text": [
            "/root/.fastai/data/imdb\n"
          ],
          "name": "stdout"
        }
      ]
    },
    {
      "cell_type": "code",
      "metadata": {
        "id": "hhw69oyqPTdv"
      },
      "source": [
        ""
      ],
      "execution_count": null,
      "outputs": []
    },
    {
      "cell_type": "markdown",
      "metadata": {
        "id": "KPbxuBogPUqS"
      },
      "source": [
        "Unfreeze the model and fit. Note this took over five hours. Save the encoder for later"
      ]
    },
    {
      "cell_type": "code",
      "metadata": {
        "colab": {
          "base_uri": "https://localhost:8080/",
          "height": 381
        },
        "id": "rhKNSzjf-Eg1",
        "outputId": "5e802095-b82a-4ac0-91b4-9a315e257c4a"
      },
      "source": [
        "learnlm.unfreeze()\n",
        "learnlm.fit_one_cycle(10,2e-3) # 5 hours\n",
        "\n",
        "learnlm.save_encoder('finetunedF')\n",
        "!cp /root/.fastai/data/imdb/models/finetunedF.pth /content/gdrive/MyDrive\n",
        "#learnlm.load_encoder('finetunedF')"
      ],
      "execution_count": null,
      "outputs": [
        {
          "output_type": "display_data",
          "data": {
            "text/html": [
              "<table border=\"1\" class=\"dataframe\">\n",
              "  <thead>\n",
              "    <tr style=\"text-align: left;\">\n",
              "      <th>epoch</th>\n",
              "      <th>train_loss</th>\n",
              "      <th>valid_loss</th>\n",
              "      <th>accuracy</th>\n",
              "      <th>perplexity</th>\n",
              "      <th>time</th>\n",
              "    </tr>\n",
              "  </thead>\n",
              "  <tbody>\n",
              "    <tr>\n",
              "      <td>0</td>\n",
              "      <td>3.763633</td>\n",
              "      <td>3.761119</td>\n",
              "      <td>0.317067</td>\n",
              "      <td>42.996529</td>\n",
              "      <td>31:10</td>\n",
              "    </tr>\n",
              "    <tr>\n",
              "      <td>1</td>\n",
              "      <td>3.701758</td>\n",
              "      <td>3.701771</td>\n",
              "      <td>0.323646</td>\n",
              "      <td>40.518990</td>\n",
              "      <td>30:32</td>\n",
              "    </tr>\n",
              "    <tr>\n",
              "      <td>2</td>\n",
              "      <td>3.633814</td>\n",
              "      <td>3.649657</td>\n",
              "      <td>0.329085</td>\n",
              "      <td>38.461483</td>\n",
              "      <td>30:27</td>\n",
              "    </tr>\n",
              "    <tr>\n",
              "      <td>3</td>\n",
              "      <td>3.539764</td>\n",
              "      <td>3.616908</td>\n",
              "      <td>0.332909</td>\n",
              "      <td>37.222294</td>\n",
              "      <td>30:55</td>\n",
              "    </tr>\n",
              "    <tr>\n",
              "      <td>4</td>\n",
              "      <td>3.499323</td>\n",
              "      <td>3.596352</td>\n",
              "      <td>0.335529</td>\n",
              "      <td>36.464954</td>\n",
              "      <td>30:44</td>\n",
              "    </tr>\n",
              "    <tr>\n",
              "      <td>5</td>\n",
              "      <td>3.433929</td>\n",
              "      <td>3.583806</td>\n",
              "      <td>0.337819</td>\n",
              "      <td>36.010345</td>\n",
              "      <td>30:32</td>\n",
              "    </tr>\n",
              "    <tr>\n",
              "      <td>6</td>\n",
              "      <td>3.377377</td>\n",
              "      <td>3.572593</td>\n",
              "      <td>0.339740</td>\n",
              "      <td>35.608814</td>\n",
              "      <td>30:54</td>\n",
              "    </tr>\n",
              "    <tr>\n",
              "      <td>7</td>\n",
              "      <td>3.294219</td>\n",
              "      <td>3.568537</td>\n",
              "      <td>0.340728</td>\n",
              "      <td>35.464653</td>\n",
              "      <td>30:20</td>\n",
              "    </tr>\n",
              "    <tr>\n",
              "      <td>8</td>\n",
              "      <td>3.233820</td>\n",
              "      <td>3.572530</td>\n",
              "      <td>0.341071</td>\n",
              "      <td>35.606556</td>\n",
              "      <td>30:22</td>\n",
              "    </tr>\n",
              "    <tr>\n",
              "      <td>9</td>\n",
              "      <td>3.214494</td>\n",
              "      <td>3.576734</td>\n",
              "      <td>0.340802</td>\n",
              "      <td>35.756580</td>\n",
              "      <td>30:31</td>\n",
              "    </tr>\n",
              "  </tbody>\n",
              "</table>"
            ],
            "text/plain": [
              "<IPython.core.display.HTML object>"
            ]
          },
          "metadata": {
            "tags": []
          }
        },
        {
          "output_type": "execute_result",
          "data": {
            "text/plain": [
              "<fastai.text.learner.LMLearner at 0x7fcc65a875d0>"
            ]
          },
          "metadata": {
            "tags": []
          },
          "execution_count": 8
        }
      ]
    }
  ]
}